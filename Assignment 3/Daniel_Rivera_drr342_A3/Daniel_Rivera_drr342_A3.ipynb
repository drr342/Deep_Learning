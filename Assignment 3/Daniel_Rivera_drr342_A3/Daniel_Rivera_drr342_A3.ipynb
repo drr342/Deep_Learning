{
 "cells": [
  {
   "cell_type": "markdown",
   "metadata": {},
   "source": [
    "## 0. Setup"
   ]
  },
  {
   "cell_type": "code",
   "execution_count": 1,
   "metadata": {},
   "outputs": [],
   "source": [
    "# Import dependencies\n",
    "import torch\n",
    "import torch.nn as nn\n",
    "import torch.nn.functional as F\n",
    "import torch.optim as optim\n",
    "from torch.utils.data import DataLoader\n",
    "from torchvision import datasets, transforms"
   ]
  },
  {
   "cell_type": "code",
   "execution_count": 6,
   "metadata": {},
   "outputs": [],
   "source": [
    "# Set up your device \n",
    "cuda = torch.cuda.is_available()\n",
    "device = torch.device(\"cuda:0\" if cuda else \"cpu\")"
   ]
  },
  {
   "cell_type": "code",
   "execution_count": 7,
   "metadata": {},
   "outputs": [],
   "source": [
    "# Set up random seed to 1008. Do not change the random seed.\n",
    "seed = 1008\n",
    "torch.manual_seed(seed)\n",
    "if cuda:\n",
    "    torch.cuda.manual_seed_all(seed)"
   ]
  },
  {
   "cell_type": "markdown",
   "metadata": {},
   "source": [
    "## 1. Data: MNIST\n",
    "#### Load the MNIST training and test dataset using $\\texttt{torch.utils.data.DataLoader}$ and $\\texttt{torchvision.datasets}$. \n",
    "\n",
    "Hint: You might find Alf's notebook useful: https://github.com/Atcold/pytorch-Deep-Learning-Minicourse/blob/master/06-convnet.ipynb"
   ]
  },
  {
   "cell_type": "markdown",
   "metadata": {},
   "source": [
    "### 1.1. Load Training Set [4 pts]"
   ]
  },
  {
   "cell_type": "code",
   "execution_count": 77,
   "metadata": {},
   "outputs": [],
   "source": [
    "# Load the MNIST training set with batch size 128, apply data shuffling and normalization\n",
    "mnist_train = datasets.MNIST('../data', train=True, download=True,\n",
    "                   transform=transforms.Compose([transforms.ToTensor()]))\n",
    "# print(vars(mnist_train))\n",
    "mean = mnist_train.train_data.type(torch.FloatTensor).mean() / 255\n",
    "std = mnist_train.train_data.type(torch.FloatTensor).std() / 255\n",
    "mnist_train.transform = transforms.Compose([\n",
    "                            transforms.ToTensor(),\n",
    "                            transforms.Normalize((mean.item(),), (std.item(),)) \n",
    "                        ])\n",
    "train_loader = torch.utils.data.DataLoader(mnist_train, batch_size=128, shuffle=True)"
   ]
  },
  {
   "cell_type": "markdown",
   "metadata": {},
   "source": [
    "### 1.1. Load Test Set [4 pts]"
   ]
  },
  {
   "cell_type": "code",
   "execution_count": 79,
   "metadata": {},
   "outputs": [],
   "source": [
    "# Load the MNIST test set with batch size 128, apply data shuffling and normalization\n",
    "test_loader = torch.utils.data.DataLoader(\n",
    "    datasets.MNIST('../data', train=False, transform=transforms.Compose([\n",
    "                       transforms.ToTensor(),\n",
    "                       transforms.Normalize((mean.item(),), (std.item(),))\n",
    "                   ])),\n",
    "    batch_size=128, shuffle=True)"
   ]
  },
  {
   "cell_type": "markdown",
   "metadata": {},
   "source": [
    "## 2. Models\n",
    "#### You are going to define two convolutional neural networks which are trained to classify MNIST digits"
   ]
  },
  {
   "cell_type": "markdown",
   "metadata": {},
   "source": [
    "### 2.1. CNN without Batch Norm [15 pts]"
   ]
  },
  {
   "cell_type": "code",
   "execution_count": 143,
   "metadata": {},
   "outputs": [],
   "source": [
    "# print(train_loader.__iter__().next()[0].shape)\n",
    "# x = torch.randn(128, 1, 28, 28)\n",
    "# conv1 = nn.Conv2d(in_channels=1, out_channels=20, kernel_size=5, stride=1)\n",
    "# x = F.relu(conv1(x))\n",
    "# print(x.shape)\n",
    "# x = F.max_pool2d(x, kernel_size=2, stride=2)\n",
    "# print(x.shape)\n",
    "# conv2 = nn.Conv2d(in_channels=20, out_channels=50, kernel_size=5, stride=1)\n",
    "# x = F.relu(conv2(x))\n",
    "# print(x.shape)\n",
    "# x = F.max_pool2d(x, kernel_size=2, stride=2)\n",
    "# print(x.shape)\n",
    "# x = x.view(-1, 50*4*4)\n",
    "# print(x.shape)\n",
    "# x = F.softmax(x, dim=1)\n",
    "# print(x.shape)\n",
    "# print(x.sum(1))\n",
    "\n",
    "# torch.Size([128, 20, 24, 24])\n",
    "# torch.Size([128, 20, 12, 12])\n",
    "# torch.Size([128, 50, 8, 8])\n",
    "# torch.Size([128, 50, 4, 4])\n",
    "# torch.Size([128, 800])\n",
    "# torch.Size([128, 800])"
   ]
  },
  {
   "cell_type": "code",
   "execution_count": 115,
   "metadata": {},
   "outputs": [],
   "source": [
    "# Fill in the values below that make this network valid for MNIST data\n",
    "\n",
    "conv1_in_ch = 1\n",
    "conv2_in_ch = 20\n",
    "fc1_in_features = 800\n",
    "fc2_in_features = 500\n",
    "n_classes = 10"
   ]
  },
  {
   "cell_type": "code",
   "execution_count": 140,
   "metadata": {},
   "outputs": [],
   "source": [
    "class NetWithoutBatchNorm(nn.Module):\n",
    "    def __init__(self):\n",
    "        super(NetWithoutBatchNorm, self).__init__()\n",
    "        self.conv1 = nn.Conv2d(in_channels=conv1_in_ch, out_channels=20, kernel_size=5, stride=1)\n",
    "        self.conv2 = nn.Conv2d(in_channels=conv2_in_ch, out_channels=50, kernel_size=5, stride=1)\n",
    "        self.fc1 = nn.Linear(in_features=fc1_in_features, out_features=500)\n",
    "        self.fc2 = nn.Linear(in_features=fc2_in_features, out_features=n_classes)\n",
    "\n",
    "    def forward(self, x):\n",
    "        x = F.relu(self.conv1(x))\n",
    "        x = F.max_pool2d(x, kernel_size=2, stride=2)\n",
    "        x = F.relu(self.conv2(x))\n",
    "        x = F.max_pool2d(x, kernel_size=2, stride=2)\n",
    "        x = x.view(-1, fc1_in_features) # reshaping\n",
    "        x = F.relu(self.fc1(x))\n",
    "        x = self.fc2(x)\n",
    "        # Return the log_softmax of x.\n",
    "        return F.log_softmax(x, dim=1)"
   ]
  },
  {
   "cell_type": "markdown",
   "metadata": {},
   "source": [
    "### 2.2. CNN with Batch Norm [15 pts]"
   ]
  },
  {
   "cell_type": "code",
   "execution_count": 149,
   "metadata": {},
   "outputs": [],
   "source": [
    "# Fill in the values below that make this network valid for MNIST data\n",
    "\n",
    "conv1_bn_size = 20\n",
    "conv2_bn_size = 50\n",
    "fc1_bn_size = 500"
   ]
  },
  {
   "cell_type": "code",
   "execution_count": 141,
   "metadata": {},
   "outputs": [],
   "source": [
    "# Define the CNN with architecture explained in Part 2.2\n",
    "class NetWithBatchNorm(nn.Module):\n",
    "    def __init__(self):\n",
    "        super(NetWithBatchNorm, self).__init__()\n",
    "        self.conv1 = nn.Conv2d(in_channels=conv1_in_ch, out_channels=20, kernel_size=5, stride=1)\n",
    "        self.conv1_bn = nn.BatchNorm2d(conv1_bn_size)\n",
    "        self.conv2 = nn.Conv2d(in_channels=conv2_in_ch, out_channels=50, kernel_size=5, stride=1)\n",
    "        self.conv2_bn = nn.BatchNorm2d(conv2_bn_size)\n",
    "        self.fc1 = nn.Linear(in_features=fc1_in_features, out_features=500)\n",
    "        self.fc1_bn = nn.BatchNorm1d(fc1_bn_size)\n",
    "        self.fc2 = nn.Linear(in_features=fc2_in_features, out_features=n_classes)\n",
    "\n",
    "    def forward(self, x):\n",
    "        x = F.relu(self.conv1_bn(self.conv1(x)))\n",
    "        x = F.max_pool2d(x, kernel_size=2, stride=2)\n",
    "        x = F.relu(self.conv2_bn(self.conv2(x)))\n",
    "        x = F.max_pool2d(x, kernel_size=2, stride=2)\n",
    "        x = x.view(-1, fc1_in_features)\n",
    "        x = F.relu(self.fc1_bn(self.fc1(x)))\n",
    "        x = self.fc2(x)\n",
    "        # Return the log_softmax of x.\n",
    "        return F.log_softmax(x, dim=1)"
   ]
  },
  {
   "cell_type": "markdown",
   "metadata": {},
   "source": [
    "## 3. Training & Evaluation"
   ]
  },
  {
   "cell_type": "markdown",
   "metadata": {},
   "source": [
    "### 3.1. Define training method [15 pts]"
   ]
  },
  {
   "cell_type": "code",
   "execution_count": 145,
   "metadata": {},
   "outputs": [],
   "source": [
    "def train(model, device, train_loader, optimizer, epoch, log_interval = 100):\n",
    "    # Set model to training mode\n",
    "    model.train()\n",
    "    # Loop through data points\n",
    "    for batch_idx, (data, target) in enumerate(train_loader):\n",
    "        # pass # remove once implemented\n",
    "    \n",
    "        # Send data and target to device\n",
    "        data, target = data.to(device), target.to(device)\n",
    "        \n",
    "        # Zero out the optimizer\n",
    "        optimizer.zero_grad()\n",
    "        \n",
    "        # Pass data through model\n",
    "        output = model(data)\n",
    "        \n",
    "        # Compute the negative log likelihood loss\n",
    "        loss = F.nll_loss(output, target)\n",
    "        \n",
    "        # Backpropagate loss\n",
    "        loss.backward()\n",
    "        \n",
    "        # Make a step with the optimizer\n",
    "        optimizer.step()\n",
    "        \n",
    "        # Print loss (uncomment lines below once implemented)\n",
    "        if batch_idx % log_interval == 0:\n",
    "            print('Train Epoch: {} [{}/{} ({:.0f}%)]\\tLoss: {:.6f}'.format(\n",
    "                epoch, batch_idx * len(data), len(train_loader.dataset),\n",
    "                100. * batch_idx / len(train_loader), loss.item()))"
   ]
  },
  {
   "cell_type": "markdown",
   "metadata": {},
   "source": [
    "### 3.2. Define test method [15 pts]"
   ]
  },
  {
   "cell_type": "code",
   "execution_count": 146,
   "metadata": {},
   "outputs": [],
   "source": [
    "# Define test method\n",
    "def test(model, device, test_loader):\n",
    "    # Set model to evaluation mode\n",
    "    model.eval()\n",
    "    # Variable for the total loss \n",
    "    test_loss = 0\n",
    "    # Counter for the correct predictions\n",
    "    num_correct = 0\n",
    "    \n",
    "    with torch.no_grad():\n",
    "        # Loop through data points\n",
    "        for data, target in test_loader:\n",
    "            pass # remove once implemented\n",
    "        \n",
    "            # Send data to device\n",
    "            data, target = data.to(device), target.to(device)\n",
    "            \n",
    "            # Pass data through model\n",
    "            output = model(data) \n",
    "            \n",
    "            # Compute the negative log likelihood loss with reduction='sum' and add to total test_loss\n",
    "            test_loss += F.nll_loss(output, target, reduction='sum').item()\n",
    "            \n",
    "            # Get predictions from the model for each data point\n",
    "            pred = output.data.max(1, keepdim=True)[1] \n",
    "            \n",
    "            # Add number of correct predictions to total num_correct \n",
    "            num_correct += pred.eq(target.data.view_as(pred)).cpu().sum().item()\n",
    "    \n",
    "    # Compute the average test_loss\n",
    "    avg_test_loss = test_loss / len(test_loader.dataset)\n",
    "    \n",
    "    # Print loss (uncomment lines below once implemented)\n",
    "    print('\\nTest set: Average loss: {:.4f}, Accuracy: {}/{} ({:.0f}%)\\n'.format(\n",
    "        avg_test_loss, num_correct, len(test_loader.dataset),\n",
    "        100. * num_correct / len(test_loader.dataset)))"
   ]
  },
  {
   "cell_type": "markdown",
   "metadata": {},
   "source": [
    "### 3.3 Train NetWithoutBatchNorm() [5 pts]"
   ]
  },
  {
   "cell_type": "code",
   "execution_count": 147,
   "metadata": {},
   "outputs": [
    {
     "name": "stdout",
     "output_type": "stream",
     "text": [
      "Train Epoch: 1 [0/60000 (0%)]\tLoss: 2.304796\n",
      "Train Epoch: 1 [12800/60000 (21%)]\tLoss: 0.754596\n",
      "Train Epoch: 1 [25600/60000 (43%)]\tLoss: 0.277714\n",
      "Train Epoch: 1 [38400/60000 (64%)]\tLoss: 0.298180\n",
      "Train Epoch: 1 [51200/60000 (85%)]\tLoss: 0.120281\n",
      "\n",
      "Test set: Average loss: 0.1683, Accuracy: 9488/10000 (95%)\n",
      "\n",
      "Train Epoch: 2 [0/60000 (0%)]\tLoss: 0.211572\n",
      "Train Epoch: 2 [12800/60000 (21%)]\tLoss: 0.204462\n",
      "Train Epoch: 2 [25600/60000 (43%)]\tLoss: 0.181509\n",
      "Train Epoch: 2 [38400/60000 (64%)]\tLoss: 0.134578\n",
      "Train Epoch: 2 [51200/60000 (85%)]\tLoss: 0.101868\n",
      "\n",
      "Test set: Average loss: 0.0991, Accuracy: 9714/10000 (97%)\n",
      "\n",
      "Train Epoch: 3 [0/60000 (0%)]\tLoss: 0.066481\n",
      "Train Epoch: 3 [12800/60000 (21%)]\tLoss: 0.103442\n",
      "Train Epoch: 3 [25600/60000 (43%)]\tLoss: 0.100653\n",
      "Train Epoch: 3 [38400/60000 (64%)]\tLoss: 0.098874\n",
      "Train Epoch: 3 [51200/60000 (85%)]\tLoss: 0.122643\n",
      "\n",
      "Test set: Average loss: 0.0712, Accuracy: 9777/10000 (98%)\n",
      "\n",
      "Train Epoch: 4 [0/60000 (0%)]\tLoss: 0.055839\n",
      "Train Epoch: 4 [12800/60000 (21%)]\tLoss: 0.050260\n",
      "Train Epoch: 4 [25600/60000 (43%)]\tLoss: 0.068922\n",
      "Train Epoch: 4 [38400/60000 (64%)]\tLoss: 0.127460\n",
      "Train Epoch: 4 [51200/60000 (85%)]\tLoss: 0.036748\n",
      "\n",
      "Test set: Average loss: 0.0596, Accuracy: 9820/10000 (98%)\n",
      "\n",
      "Train Epoch: 5 [0/60000 (0%)]\tLoss: 0.038231\n",
      "Train Epoch: 5 [12800/60000 (21%)]\tLoss: 0.048842\n",
      "Train Epoch: 5 [25600/60000 (43%)]\tLoss: 0.099817\n",
      "Train Epoch: 5 [38400/60000 (64%)]\tLoss: 0.073001\n",
      "Train Epoch: 5 [51200/60000 (85%)]\tLoss: 0.028103\n",
      "\n",
      "Test set: Average loss: 0.0658, Accuracy: 9797/10000 (98%)\n",
      "\n",
      "Train Epoch: 6 [0/60000 (0%)]\tLoss: 0.059343\n",
      "Train Epoch: 6 [12800/60000 (21%)]\tLoss: 0.037359\n",
      "Train Epoch: 6 [25600/60000 (43%)]\tLoss: 0.035709\n",
      "Train Epoch: 6 [38400/60000 (64%)]\tLoss: 0.078951\n",
      "Train Epoch: 6 [51200/60000 (85%)]\tLoss: 0.055726\n",
      "\n",
      "Test set: Average loss: 0.0525, Accuracy: 9821/10000 (98%)\n",
      "\n",
      "Train Epoch: 7 [0/60000 (0%)]\tLoss: 0.027692\n",
      "Train Epoch: 7 [12800/60000 (21%)]\tLoss: 0.031256\n",
      "Train Epoch: 7 [25600/60000 (43%)]\tLoss: 0.046941\n",
      "Train Epoch: 7 [38400/60000 (64%)]\tLoss: 0.054085\n",
      "Train Epoch: 7 [51200/60000 (85%)]\tLoss: 0.043921\n",
      "\n",
      "Test set: Average loss: 0.0461, Accuracy: 9843/10000 (98%)\n",
      "\n",
      "Train Epoch: 8 [0/60000 (0%)]\tLoss: 0.036886\n",
      "Train Epoch: 8 [12800/60000 (21%)]\tLoss: 0.025558\n",
      "Train Epoch: 8 [25600/60000 (43%)]\tLoss: 0.014383\n",
      "Train Epoch: 8 [38400/60000 (64%)]\tLoss: 0.036766\n",
      "Train Epoch: 8 [51200/60000 (85%)]\tLoss: 0.024078\n",
      "\n",
      "Test set: Average loss: 0.0455, Accuracy: 9857/10000 (99%)\n",
      "\n",
      "Train Epoch: 9 [0/60000 (0%)]\tLoss: 0.038722\n",
      "Train Epoch: 9 [12800/60000 (21%)]\tLoss: 0.040148\n",
      "Train Epoch: 9 [25600/60000 (43%)]\tLoss: 0.014784\n",
      "Train Epoch: 9 [38400/60000 (64%)]\tLoss: 0.021272\n",
      "Train Epoch: 9 [51200/60000 (85%)]\tLoss: 0.039709\n",
      "\n",
      "Test set: Average loss: 0.0381, Accuracy: 9879/10000 (99%)\n",
      "\n",
      "Train Epoch: 10 [0/60000 (0%)]\tLoss: 0.032678\n",
      "Train Epoch: 10 [12800/60000 (21%)]\tLoss: 0.010035\n",
      "Train Epoch: 10 [25600/60000 (43%)]\tLoss: 0.094799\n",
      "Train Epoch: 10 [38400/60000 (64%)]\tLoss: 0.025994\n",
      "Train Epoch: 10 [51200/60000 (85%)]\tLoss: 0.018556\n",
      "\n",
      "Test set: Average loss: 0.0394, Accuracy: 9864/10000 (99%)\n",
      "\n"
     ]
    }
   ],
   "source": [
    "# Deifne model and sent to device\n",
    "model = NetWithoutBatchNorm()\n",
    "model.to(device)\n",
    "\n",
    "# Optimizer: SGD with learning rate of 1e-2 and momentum of 0.5\n",
    "optimizer = optim.SGD(model.parameters(), lr=1e-2, momentum=0.5)\n",
    "\n",
    "# Training loop with 10 epochs\n",
    "for epoch in range(1, 10 + 1):\n",
    "    # pass # remove once implemented\n",
    "\n",
    "    # Train model\n",
    "    train(model, device, train_loader, optimizer, epoch)\n",
    "    \n",
    "    # Test model\n",
    "    test(model, device, test_loader)"
   ]
  },
  {
   "cell_type": "markdown",
   "metadata": {},
   "source": [
    "### 3.4 Train NetWithBatchNorm() [5 pts]"
   ]
  },
  {
   "cell_type": "code",
   "execution_count": 150,
   "metadata": {},
   "outputs": [
    {
     "name": "stdout",
     "output_type": "stream",
     "text": [
      "Train Epoch: 1 [0/60000 (0%)]\tLoss: 2.268029\n",
      "Train Epoch: 1 [12800/60000 (21%)]\tLoss: 0.462884\n",
      "Train Epoch: 1 [25600/60000 (43%)]\tLoss: 0.178817\n",
      "Train Epoch: 1 [38400/60000 (64%)]\tLoss: 0.142070\n",
      "Train Epoch: 1 [51200/60000 (85%)]\tLoss: 0.111819\n",
      "\n",
      "Test set: Average loss: 0.1047, Accuracy: 9769/10000 (98%)\n",
      "\n",
      "Train Epoch: 2 [0/60000 (0%)]\tLoss: 0.173088\n",
      "Train Epoch: 2 [12800/60000 (21%)]\tLoss: 0.117278\n",
      "Train Epoch: 2 [25600/60000 (43%)]\tLoss: 0.121242\n",
      "Train Epoch: 2 [38400/60000 (64%)]\tLoss: 0.089413\n",
      "Train Epoch: 2 [51200/60000 (85%)]\tLoss: 0.062545\n",
      "\n",
      "Test set: Average loss: 0.0670, Accuracy: 9834/10000 (98%)\n",
      "\n",
      "Train Epoch: 3 [0/60000 (0%)]\tLoss: 0.084703\n",
      "Train Epoch: 3 [12800/60000 (21%)]\tLoss: 0.060484\n",
      "Train Epoch: 3 [25600/60000 (43%)]\tLoss: 0.040580\n",
      "Train Epoch: 3 [38400/60000 (64%)]\tLoss: 0.046123\n",
      "Train Epoch: 3 [51200/60000 (85%)]\tLoss: 0.025961\n",
      "\n",
      "Test set: Average loss: 0.0482, Accuracy: 9876/10000 (99%)\n",
      "\n",
      "Train Epoch: 4 [0/60000 (0%)]\tLoss: 0.093360\n",
      "Train Epoch: 4 [12800/60000 (21%)]\tLoss: 0.028952\n",
      "Train Epoch: 4 [25600/60000 (43%)]\tLoss: 0.044605\n",
      "Train Epoch: 4 [38400/60000 (64%)]\tLoss: 0.046490\n",
      "Train Epoch: 4 [51200/60000 (85%)]\tLoss: 0.078006\n",
      "\n",
      "Test set: Average loss: 0.0420, Accuracy: 9886/10000 (99%)\n",
      "\n",
      "Train Epoch: 5 [0/60000 (0%)]\tLoss: 0.047745\n",
      "Train Epoch: 5 [12800/60000 (21%)]\tLoss: 0.048704\n",
      "Train Epoch: 5 [25600/60000 (43%)]\tLoss: 0.063060\n",
      "Train Epoch: 5 [38400/60000 (64%)]\tLoss: 0.034858\n",
      "Train Epoch: 5 [51200/60000 (85%)]\tLoss: 0.017736\n",
      "\n",
      "Test set: Average loss: 0.0374, Accuracy: 9900/10000 (99%)\n",
      "\n",
      "Train Epoch: 6 [0/60000 (0%)]\tLoss: 0.031743\n",
      "Train Epoch: 6 [12800/60000 (21%)]\tLoss: 0.023339\n",
      "Train Epoch: 6 [25600/60000 (43%)]\tLoss: 0.049877\n",
      "Train Epoch: 6 [38400/60000 (64%)]\tLoss: 0.033135\n",
      "Train Epoch: 6 [51200/60000 (85%)]\tLoss: 0.030908\n",
      "\n",
      "Test set: Average loss: 0.0335, Accuracy: 9910/10000 (99%)\n",
      "\n",
      "Train Epoch: 7 [0/60000 (0%)]\tLoss: 0.060702\n",
      "Train Epoch: 7 [12800/60000 (21%)]\tLoss: 0.008091\n",
      "Train Epoch: 7 [25600/60000 (43%)]\tLoss: 0.018847\n",
      "Train Epoch: 7 [38400/60000 (64%)]\tLoss: 0.009233\n",
      "Train Epoch: 7 [51200/60000 (85%)]\tLoss: 0.012985\n",
      "\n",
      "Test set: Average loss: 0.0318, Accuracy: 9915/10000 (99%)\n",
      "\n",
      "Train Epoch: 8 [0/60000 (0%)]\tLoss: 0.033776\n",
      "Train Epoch: 8 [12800/60000 (21%)]\tLoss: 0.024402\n",
      "Train Epoch: 8 [25600/60000 (43%)]\tLoss: 0.024190\n",
      "Train Epoch: 8 [38400/60000 (64%)]\tLoss: 0.010984\n",
      "Train Epoch: 8 [51200/60000 (85%)]\tLoss: 0.014807\n",
      "\n",
      "Test set: Average loss: 0.0307, Accuracy: 9907/10000 (99%)\n",
      "\n",
      "Train Epoch: 9 [0/60000 (0%)]\tLoss: 0.021880\n",
      "Train Epoch: 9 [12800/60000 (21%)]\tLoss: 0.053242\n",
      "Train Epoch: 9 [25600/60000 (43%)]\tLoss: 0.031951\n",
      "Train Epoch: 9 [38400/60000 (64%)]\tLoss: 0.021575\n",
      "Train Epoch: 9 [51200/60000 (85%)]\tLoss: 0.011305\n",
      "\n",
      "Test set: Average loss: 0.0283, Accuracy: 9918/10000 (99%)\n",
      "\n",
      "Train Epoch: 10 [0/60000 (0%)]\tLoss: 0.009532\n",
      "Train Epoch: 10 [12800/60000 (21%)]\tLoss: 0.040810\n",
      "Train Epoch: 10 [25600/60000 (43%)]\tLoss: 0.057441\n",
      "Train Epoch: 10 [38400/60000 (64%)]\tLoss: 0.043889\n",
      "Train Epoch: 10 [51200/60000 (85%)]\tLoss: 0.018804\n",
      "\n",
      "Test set: Average loss: 0.0281, Accuracy: 9916/10000 (99%)\n",
      "\n"
     ]
    }
   ],
   "source": [
    "# Deifne model and sent to device\n",
    "model = NetWithBatchNorm()\n",
    "model.to(device)\n",
    "\n",
    "# Optimizer: SGD with learning rate of 1e-2 and momentum of 0.5\n",
    "optimizer = optim.SGD(model.parameters(), lr=1e-2, momentum=0.5)\n",
    "\n",
    "# Training loop with 10 epochs\n",
    "for epoch in range(1, 10 + 1):\n",
    "    # pass # remove once implemented\n",
    "\n",
    "    # Train model\n",
    "    train(model, device, train_loader, optimizer, epoch)\n",
    "    \n",
    "    # Test model\n",
    "    test(model, device, test_loader)"
   ]
  },
  {
   "cell_type": "markdown",
   "metadata": {},
   "source": [
    "## 4. Empirically, which of the models achieves higher accuracy faster? [2 pts]"
   ]
  },
  {
   "cell_type": "markdown",
   "metadata": {},
   "source": [
    "Answer: The CNN with batch normalization achieves higher accuracy faster. After only one epoch is already at the same level of accuracy (97.7%) that the CNN without batch normalization achieves at epoch 3. Furthermore, after 7 epochs the CNN with batch normalization seems to have reached it maximum accuracy (99.2%)."
   ]
  }
 ],
 "metadata": {
  "kernelspec": {
   "display_name": "AIMS DL",
   "language": "python",
   "name": "aims-ml"
  },
  "language_info": {
   "codemirror_mode": {
    "name": "ipython",
    "version": 3
   },
   "file_extension": ".py",
   "mimetype": "text/x-python",
   "name": "python",
   "nbconvert_exporter": "python",
   "pygments_lexer": "ipython3",
   "version": "3.6.7"
  }
 },
 "nbformat": 4,
 "nbformat_minor": 2
}
