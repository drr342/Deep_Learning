{
 "cells": [
  {
   "cell_type": "code",
   "execution_count": 1,
   "metadata": {},
   "outputs": [],
   "source": [
    "import torch\n",
    "import torch.nn.functional as F\n",
    "from torch import nn, optim\n",
    "from torchvision import datasets, transforms\n",
    "\n",
    "from datetime import datetime"
   ]
  },
  {
   "cell_type": "code",
   "execution_count": 2,
   "metadata": {},
   "outputs": [],
   "source": [
    "cuda = torch.cuda.is_available()\n",
    "device = torch.device(\"cuda\" if cuda else \"cpu\")"
   ]
  },
  {
   "cell_type": "code",
   "execution_count": 3,
   "metadata": {},
   "outputs": [],
   "source": [
    "class AlexNetVAE(nn.Module):\n",
    "    def __init__(self):\n",
    "        super(AlexNetVAE, self).__init__()\n",
    "        #Encoding layers\n",
    "        self.conv1 = nn.Conv2d(3, 64, kernel_size=11, stride=4, padding=2)\n",
    "        self.mp1   = nn.MaxPool2d(kernel_size=3, stride=2,return_indices=True)\n",
    "        self.conv2 = nn.Conv2d(64, 192, kernel_size=5, padding=2)\n",
    "        self.mp2   = nn.MaxPool2d(kernel_size=3, stride=2,return_indices=True)\n",
    "        self.conv3 = nn.Conv2d(192, 384, kernel_size=3, padding=1)\n",
    "        self.conv4 = nn.Conv2d(384, 256, kernel_size=3, padding=1)\n",
    "        self.conv5 = nn.Conv2d(256, 256, kernel_size=3, padding=1)\n",
    "        self.mp5   = nn.MaxPool2d(kernel_size=3, stride=2,return_indices=True)\n",
    "\n",
    "        #Bottleneck layers\n",
    "        self.fc1 = nn.Linear(9216, 256)\n",
    "        self.fc2 = nn.Linear(9216, 256)\n",
    "        self.fc3 = nn.Linear(256, 9216)\n",
    "        \n",
    "        #Decoding layers\n",
    "        self.mu5     = nn.MaxUnpool2d(kernel_size=3, stride=2)\n",
    "        self.deconv5 = nn.ConvTranspose2d(256, 256, kernel_size=3, padding=1)\n",
    "        self.deconv4 = nn.ConvTranspose2d(256, 384, kernel_size=3, padding=1)\n",
    "        self.deconv3 = nn.ConvTranspose2d(384, 192, kernel_size=3, padding=1)\n",
    "        self.mu2     = nn.MaxUnpool2d(kernel_size=3, stride=2)\n",
    "        self.deconv2 = nn.ConvTranspose2d(192, 64, kernel_size=5, padding=2)\n",
    "        self.mu1     = nn.MaxUnpool2d(kernel_size=3, stride=2)\n",
    "        self.deconv1 = nn.ConvTranspose2d(64, 3, kernel_size=11, stride=4, padding=2, output_padding=1)\n",
    "        \n",
    "    def _encode(self, x):\n",
    "        x = self.conv1(x)\n",
    "        x = F.relu(x)\n",
    "        x, self.mp1_index = self.mp1(x)\n",
    "        x = self.conv2(x)\n",
    "        x = F.relu(x)\n",
    "        x, self.mp2_index = self.mp2(x)\n",
    "        x = self.conv3(x)\n",
    "        x = F.relu(x)\n",
    "        x = self.conv4(x)\n",
    "        x = F.relu(x)\n",
    "        x = self.conv5(x)\n",
    "        x = F.relu(x)\n",
    "        x, self.mp5_index = self.mp5(x)\n",
    "        return x.view(x.size(0), -1)\n",
    "    \n",
    "    def _decode(self, x):\n",
    "        x = x.view(x.size(0), 256, 6, 6)\n",
    "        x = self.mu5(x, self.mp5_index, output_size=torch.Size([x.size(0), 256, 13, 13]))\n",
    "        x = self.deconv5(x)\n",
    "        x = F.relu(x)\n",
    "        x = self.deconv4(x)\n",
    "        x = F.relu(x)\n",
    "        x = self.deconv3(x)\n",
    "        x = F.relu(x)\n",
    "        x = self.mu2(x, self.mp2_index, output_size=torch.Size([x.size(0), 192, 27, 27]))\n",
    "        x = self.deconv2(x)\n",
    "        x = F.relu(x)\n",
    "        x = self.mu1(x, self.mp1_index, output_size=torch.Size([x.size(0), 64, 55, 55]))\n",
    "        x = self.deconv1(x)\n",
    "        return torch.sigmoid(x)\n",
    "        \n",
    "    def encode(self, x):\n",
    "        h = self._encode(x)\n",
    "        z, mu, logvar = self.bottleneck(h)\n",
    "        return z, mu, logvar\n",
    "\n",
    "    def decode(self, z):\n",
    "        z = self.fc3(z)\n",
    "        z = self._decode(z)\n",
    "        return z\n",
    "\n",
    "    def reparameterize(self, mu, logvar):\n",
    "        std = logvar.mul(0.5).exp_()\n",
    "        # return torch.normal(mu, std)\n",
    "        esp = torch.randn(*mu.size()).to(device)\n",
    "        z = mu + std * esp\n",
    "        return z\n",
    "\n",
    "    def bottleneck(self, h):\n",
    "        mu, logvar = self.fc1(h), self.fc2(h)\n",
    "        z = self.reparameterize(mu, logvar)\n",
    "        return z, mu, logvar\n",
    "\n",
    "    def forward(self, x):\n",
    "        z, mu, logvar = self.encode(x)\n",
    "        z = self.decode(z)\n",
    "        return z, mu, logvar"
   ]
  },
  {
   "cell_type": "code",
   "execution_count": 4,
   "metadata": {},
   "outputs": [],
   "source": [
    "def load_data(data_dir, batch_size, shuffle=True, **kwargs):\n",
    "    \"\"\" Method returning a data loader for labeled data \"\"\"\n",
    "    # TODO (optional): add data transformations if needed\n",
    "    transform = transforms.Compose([\n",
    "        transforms.RandomResizedCrop(224),\n",
    "        transforms.ToTensor(),\n",
    "#         transforms.Normalize(mean=[0.485, 0.456, 0.406],\n",
    "#                                      std=[0.229, 0.224, 0.225])\n",
    "        ]\n",
    "    )\n",
    "    data = datasets.ImageFolder(data_dir, transform=transform)\n",
    "    data_loader = torch.utils.data.DataLoader(\n",
    "        data,\n",
    "        batch_size=batch_size,\n",
    "        shuffle=shuffle,\n",
    "        **kwargs\n",
    "    )\n",
    "    return data_loader"
   ]
  },
  {
   "cell_type": "code",
   "execution_count": 5,
   "metadata": {},
   "outputs": [],
   "source": [
    "epochs=10\n",
    "batch_size = 128\n",
    "kwargs = {'num_workers': 1, 'pin_memory': True} if cuda else {}\n",
    "train_loader = load_data('/scratch/drr342/dl/project/data/ssl_data_96/unsupervised', batch_size)"
   ]
  },
  {
   "cell_type": "code",
   "execution_count": 20,
   "metadata": {},
   "outputs": [
    {
     "data": {
      "text/plain": [
       "1.0"
      ]
     },
     "execution_count": 20,
     "metadata": {},
     "output_type": "execute_result"
    }
   ],
   "source": [
    "l = [(batch_idx + 1) / len(train_loader) for batch_idx in range(len(train_loader))]\n",
    "len(l)\n",
    "max(l)\n"
   ]
  },
  {
   "cell_type": "code",
   "execution_count": 6,
   "metadata": {},
   "outputs": [],
   "source": [
    "# Reconstruction + KL divergence losses summed over all elements and batch\n",
    "def loss_function(recon_x, x, mu, logvar, batch_idx):\n",
    "    BCE = F.binary_cross_entropy(recon_x, x, reduction='sum')\n",
    "    # see Appendix B from VAE paper:\n",
    "    # Kingma and Welling. Auto-Encoding Variational Bayes. ICLR, 2014\n",
    "    # https://arxiv.org/abs/1312.6114\n",
    "    # 0.5 * sum(1 + log(sigma^2) - mu^2 - sigma^2)\n",
    "    KLD = -0.5 * torch.mean(1 + logvar - mu.pow(2) - logvar.exp())\n",
    "    beta = (batch_idx + 1) / len(train_loader)\n",
    "    return BCE + beta * KLD"
   ]
  },
  {
   "cell_type": "code",
   "execution_count": 7,
   "metadata": {},
   "outputs": [],
   "source": [
    "log_interval=100\n",
    "model = AlexNetVAE()\n",
    "if torch.cuda.device_count() > 1:\n",
    "    print(\"Let's use\", torch.cuda.device_count(), \"GPUs!\")\n",
    "    model = nn.DataParallel(model)\n",
    "model.to(device)\n",
    "optimizer = optim.Adam(model.parameters(), lr=1e-3)\n",
    "\n",
    "def train(epoch):\n",
    "    model.train()\n",
    "    train_loss = 0\n",
    "    for batch_idx, (data, _) in enumerate(train_loader):\n",
    "        data = data.to(device)\n",
    "        optimizer.zero_grad()\n",
    "        recon_batch, mu, logvar = model(data)\n",
    "        loss = loss_function(recon_batch, data, mu, logvar, batch_idx)\n",
    "        loss.backward()\n",
    "        train_loss += loss.item()\n",
    "        optimizer.step()\n",
    "        if batch_idx % log_interval == 0:\n",
    "            print('Train Epoch: {} [{}/{} ({:.0f}%)]\\tLoss: {:.6f}'.format(\n",
    "                epoch, batch_idx * len(data), len(train_loader.dataset),\n",
    "                100. * batch_idx / len(train_loader),\n",
    "                loss.item() / len(data)))\n",
    "\n",
    "    print('====> Epoch: {} Average loss: {:.4f}'.format(\n",
    "          epoch, train_loss / len(train_loader.dataset)))"
   ]
  },
  {
   "cell_type": "code",
   "execution_count": null,
   "metadata": {},
   "outputs": [],
   "source": [
    "for epoch in range(1, epochs + 1):\n",
    "    train(epoch)\n",
    "    torch.save(model.state_dict(), f'/scratch/drr342/dl/project/models/AlexNetVAE_{datetime.now().strftime(\"%Y%m%d_%H%M\")}.pth')"
   ]
  }
 ],
 "metadata": {
  "kernelspec": {
   "display_name": "Python 3",
   "language": "python",
   "name": "python3"
  },
  "language_info": {
   "codemirror_mode": {
    "name": "ipython",
    "version": 3
   },
   "file_extension": ".py",
   "mimetype": "text/x-python",
   "name": "python",
   "nbconvert_exporter": "python",
   "pygments_lexer": "ipython3",
   "version": "3.6.3"
  }
 },
 "nbformat": 4,
 "nbformat_minor": 2
}
