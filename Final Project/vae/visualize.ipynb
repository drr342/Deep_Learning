{
 "cells": [
  {
   "cell_type": "code",
   "execution_count": 1,
   "metadata": {},
   "outputs": [],
   "source": [
    "# Import dependencies\n",
    "import torch\n",
    "import torch.nn as nn\n",
    "import torch.nn.functional as F\n",
    "import torch.optim as optim\n",
    "from torch.utils.data import DataLoader\n",
    "from torchvision import datasets, transforms, models\n",
    "from torchvision.models import resnet\n",
    "from torchvision.utils import make_grid\n",
    "\n",
    "import matplotlib.pyplot as plt\n",
    "import numpy as np\n",
    "import random"
   ]
  },
  {
   "cell_type": "code",
   "execution_count": 2,
   "metadata": {},
   "outputs": [],
   "source": [
    "%matplotlib inline\n",
    "def show(img, w=5, h=5):\n",
    "    fig = plt.figure(figsize = (w,h))\n",
    "    ax = fig.add_subplot(111)\n",
    "    if len(img) == 3:\n",
    "        ax.imshow(np.transpose(img.detach().numpy(), (1,2,0)), interpolation='nearest')\n",
    "    else:\n",
    "        ax.imshow(img.detach().numpy(), interpolation='nearest')\n",
    "    plt.show()"
   ]
  },
  {
   "cell_type": "code",
   "execution_count": 3,
   "metadata": {},
   "outputs": [],
   "source": [
    "cuda = torch.cuda.is_available()\n",
    "device = torch.device(\"cuda\" if cuda else \"cpu\")\n",
    "\n",
    "class AlexNetVAE(nn.Module):\n",
    "    def __init__(self):\n",
    "        super(AlexNetVAE, self).__init__()\n",
    "        #Encoding layers\n",
    "        self.conv1 = nn.Conv2d(3, 64, kernel_size=11, stride=4, padding=2)\n",
    "        self.mp1   = nn.MaxPool2d(kernel_size=3, stride=2,return_indices=True)\n",
    "        self.conv2 = nn.Conv2d(64, 192, kernel_size=5, padding=2)\n",
    "        self.mp2   = nn.MaxPool2d(kernel_size=3, stride=2,return_indices=True)\n",
    "        self.conv3 = nn.Conv2d(192, 384, kernel_size=3, padding=1)\n",
    "        self.conv4 = nn.Conv2d(384, 256, kernel_size=3, padding=1)\n",
    "        self.conv5 = nn.Conv2d(256, 256, kernel_size=3, padding=1)\n",
    "        # self.mp5   = nn.MaxPool2d(kernel_size=3, stride=2,return_indices=True)\n",
    "\n",
    "        #Bottleneck layers\n",
    "        self.fc1 = nn.Linear(6400, 64)\n",
    "        self.fc2 = nn.Linear(6400, 64)\n",
    "        self.fc3 = nn.Linear(64, 6400)\n",
    "        \n",
    "        #Decoding layers\n",
    "        # self.mu5     = nn.MaxUnpool2d(kernel_size=3, stride=2)\n",
    "        self.deconv5 = nn.ConvTranspose2d(256, 256, kernel_size=3, padding=1)\n",
    "        self.deconv4 = nn.ConvTranspose2d(256, 384, kernel_size=3, padding=1)\n",
    "        self.deconv3 = nn.ConvTranspose2d(384, 192, kernel_size=3, padding=1)\n",
    "        self.mu2     = nn.MaxUnpool2d(kernel_size=3, stride=2)\n",
    "        self.deconv2 = nn.ConvTranspose2d(192, 64, kernel_size=5, padding=2)\n",
    "        self.mu1     = nn.MaxUnpool2d(kernel_size=3, stride=2)\n",
    "        self.deconv1 = nn.ConvTranspose2d(64, 3, kernel_size=11, stride=4, padding=2, output_padding=1)\n",
    "        \n",
    "    def _encode(self, x):\n",
    "        x = self.conv1(x)\n",
    "        x = F.relu(x)\n",
    "        x, self.mp1_index = self.mp1(x)\n",
    "        x = self.conv2(x)\n",
    "        x = F.relu(x)\n",
    "        x, self.mp2_index = self.mp2(x)\n",
    "        x = self.conv3(x)\n",
    "        x = F.relu(x)\n",
    "        x = self.conv4(x)\n",
    "        x = F.relu(x)\n",
    "        x = self.conv5(x)\n",
    "        x = F.relu(x)\n",
    "        # x, self.mp5_index = self.mp5(x)\n",
    "        return x.view(x.size(0), -1)\n",
    "    \n",
    "    def _decode(self, x):\n",
    "        x = x.view(x.size(0), 256, 5, 5)\n",
    "        # x = self.mu5(x, self.mp5_index, output_size=torch.Size([x.size(0), 256, 13, 13]))\n",
    "        x = self.deconv5(x)\n",
    "        x = F.relu(x)\n",
    "        x = self.deconv4(x)\n",
    "        x = F.relu(x)\n",
    "        x = self.deconv3(x)\n",
    "        x = F.relu(x)\n",
    "        x = self.mu2(x, self.mp2_index, output_size=torch.Size([x.size(0), 192, 11, 11]))\n",
    "        x = self.deconv2(x)\n",
    "        x = F.relu(x)\n",
    "        x = self.mu1(x, self.mp1_index, output_size=torch.Size([x.size(0), 64, 23, 23]))\n",
    "        x = self.deconv1(x)\n",
    "        return torch.sigmoid(x)\n",
    "\n",
    "    def reparameterize(self, mu, logvar):\n",
    "        std = logvar.mul(0.5).exp_()\n",
    "        # return torch.normal(mu, std)\n",
    "        esp = torch.randn(*mu.size()).to(device)\n",
    "        z = mu + std * esp\n",
    "        return z\n",
    "\n",
    "    def bottleneck(self, h):\n",
    "        mu, logvar = self.fc1(h), self.fc2(h)\n",
    "        z = self.reparameterize(mu, logvar)\n",
    "        return z, mu, logvar\n",
    "        \n",
    "    def encode(self, x):\n",
    "        h = self._encode(x)\n",
    "        z, mu, logvar = self.bottleneck(h)\n",
    "        return z, mu, logvar\n",
    "\n",
    "    def decode(self, z):\n",
    "        z = self.fc3(z)\n",
    "        z = self._decode(z)\n",
    "        return z\n",
    "\n",
    "    def forward(self, x):\n",
    "        z, mu, logvar = self.encode(x)\n",
    "        z = self.decode(z)\n",
    "        return z, mu, logvar"
   ]
  },
  {
   "cell_type": "code",
   "execution_count": 4,
   "metadata": {},
   "outputs": [],
   "source": [
    "def _transform(resize, size):\n",
    "    if not resize:\n",
    "        return transforms.ToTensor()\n",
    "    return transforms.Compose([\n",
    "        transforms.Resize(size, 1),\n",
    "        transforms.ToTensor()\n",
    "        ])\n",
    "\n",
    "def load_data(data_dir, batch_size, resize=False, size=224):\n",
    "    \"\"\" Method returning a data loader for labeled data \"\"\"\n",
    "    # TODO (optional): add data transformations if needed\n",
    "#     transform = transforms.ToTensor()\n",
    "    data = datasets.ImageFolder(f'{data_dir}', transform=_transform(resize, size))\n",
    "    data_loader = DataLoader(\n",
    "        data,\n",
    "        batch_size=batch_size,\n",
    "        shuffle=False,\n",
    "        num_workers=0\n",
    "    )\n",
    "    return data_loader"
   ]
  },
  {
   "cell_type": "code",
   "execution_count": null,
   "metadata": {},
   "outputs": [],
   "source": [
    "transform= lambda resize, size: _transform(resize, size)\n",
    "transform(True, 224)"
   ]
  },
  {
   "cell_type": "code",
   "execution_count": null,
   "metadata": {},
   "outputs": [],
   "source": [
    "train_loader = load_data('/scratch/drr342/dl/project/data/ssl_data_96/supervised/train', 64)\n",
    "test_loader = load_data('/scratch/drr342/dl/project/data/ssl_data_96/supervised/val', 64)\n",
    "unsup_loader = load_data('/scratch/drr342/dl/project/data/ssl_data_96/unsupervised', 64)\n",
    "train_iter = train_loader.__iter__()\n",
    "test_iter = test_loader.__iter__()\n",
    "unsup_iter = unsup_loader.__iter__()"
   ]
  },
  {
   "cell_type": "code",
   "execution_count": null,
   "metadata": {},
   "outputs": [],
   "source": [
    "N = 10\n",
    "train_r = [None] * N\n",
    "test_r = [None] * N\n",
    "unsup_r = [None] * N\n",
    "for i in range(N):\n",
    "    train_img, _ = train_iter.next()\n",
    "    test_img, _ = test_iter.next()\n",
    "    unsup_img, _ = unsup_iter.next()\n",
    "    train_r[i] = make_grid(train_img, nrow=8, padding=2, normalize=False, range=None, scale_each=False, pad_value=0)\n",
    "    test_r[i] = make_grid(test_img, nrow=8, padding=2, normalize=False, range=None, scale_each=False, pad_value=0)\n",
    "    unsup_r[i] = make_grid(unsup_img, nrow=8, padding=2, normalize=False, range=None, scale_each=False, pad_value=0)"
   ]
  },
  {
   "cell_type": "code",
   "execution_count": null,
   "metadata": {},
   "outputs": [],
   "source": [
    "timeStamps = ['20190504_0625', '20190504_1006', '20190504_1401']\n",
    "models = [AlexNetVAE()] * 3\n",
    "\n",
    "for i in range(3):\n",
    "    models[i] = nn.DataParallel(models[i])\n",
    "    pretrained_model = torch.load(f=f'/scratch/drr342/dl/project/models/AlexNetVAE_{timeStamps[i]}.pth', map_location=\"cuda\" if cuda else \"cpu\")\n",
    "    models[i].load_state_dict(pretrained_model, strict=True)"
   ]
  },
  {
   "cell_type": "code",
   "execution_count": null,
   "metadata": {},
   "outputs": [],
   "source": [
    "# unsup_img, _ = unsup_iter.next()\n",
    "reconstruct = [None] * 3\n",
    "mu = [None] * 3\n",
    "logvar = [None] * 3\n",
    "for i in range(3):\n",
    "    models[i].eval()\n",
    "    with torch.no_grad():\n",
    "        reconstruct[i], mu[i], logvar[i] = models[i](unsup_img)"
   ]
  },
  {
   "cell_type": "code",
   "execution_count": null,
   "metadata": {},
   "outputs": [],
   "source": [
    "def loss_function(recon_x, x, mu, logvar, batch_idx=0):\n",
    "    BCE = F.binary_cross_entropy(recon_x, x, reduction='sum')\n",
    "    # see Appendix B from VAE paper:\n",
    "    # Kingma and Welling. Auto-Encoding Variational Bayes. ICLR, 2014\n",
    "    # https://arxiv.org/abs/1312.6114\n",
    "    # 0.5 * sum(1 + log(sigma^2) - mu^2 - sigma^2)\n",
    "    KLD = -0.5 * torch.mean(1 + logvar - mu.pow(2) - logvar.exp())\n",
    "    beta = 1#(batch_idx + 1) / len(train_loader)\n",
    "    return BCE + beta * KLD"
   ]
  },
  {
   "cell_type": "code",
   "execution_count": null,
   "metadata": {},
   "outputs": [],
   "source": [
    "for i in range(3):\n",
    "    print(loss_function(reconstruct[i], unsup_img, mu[i], logvar[i]))"
   ]
  },
  {
   "cell_type": "code",
   "execution_count": null,
   "metadata": {},
   "outputs": [],
   "source": [
    "show(unsup_img[0])\n",
    "show(reconstruct[0])\n",
    "show(reconstruct2[0])\n",
    "show(reconstruct3[0])"
   ]
  },
  {
   "cell_type": "code",
   "execution_count": null,
   "metadata": {},
   "outputs": [],
   "source": [
    "class Model(nn.Module):\n",
    "    def __init__(self):\n",
    "        super(Model, self).__init__()\n",
    "        self.resnet = models.resnet34(pretrained=True)\n",
    "        \n",
    "    def forward(self, x):\n",
    "        x = self.resnet.conv1(x)\n",
    "        x = self.resnet.bn1(x)\n",
    "        x = self.resnet.relu(x)\n",
    "        x = self.resnet.maxpool(x)\n",
    "        x = self.resnet.layer1(x)\n",
    "        x = self.resnet.layer2(x)\n",
    "        x = self.resnet.layer3(x)\n",
    "        x = self.resnet.layer4(x)\n",
    "        x = self.resnet.avgpool(x)\n",
    "        x = x.view(x.size(0), -1)\n",
    "        return x\n",
    "\n",
    "model = Model().eval()"
   ]
  },
  {
   "cell_type": "code",
   "execution_count": null,
   "metadata": {},
   "outputs": [],
   "source": [
    "img, _ = train_iter.next()"
   ]
  },
  {
   "cell_type": "code",
   "execution_count": null,
   "metadata": {},
   "outputs": [],
   "source": [
    "N = 5\n",
    "conv = [None] * N\n",
    "with torch.no_grad():\n",
    "    for i, (batch, lbl) in enumerate(train_loader):\n",
    "        if i == N:\n",
    "            break\n",
    "        conv[i] = (model(img), i)"
   ]
  },
  {
   "cell_type": "code",
   "execution_count": null,
   "metadata": {},
   "outputs": [],
   "source": [
    "for c, i in conv:\n",
    "    print(c.shape, i)"
   ]
  },
  {
   "cell_type": "code",
   "execution_count": null,
   "metadata": {},
   "outputs": [],
   "source": [
    "from torchvision import models"
   ]
  },
  {
   "cell_type": "code",
   "execution_count": null,
   "metadata": {},
   "outputs": [],
   "source": [
    "model = models.resnet18(pretrained=True)"
   ]
  },
  {
   "cell_type": "code",
   "execution_count": null,
   "metadata": {},
   "outputs": [],
   "source": [
    "img = train_iter.next()"
   ]
  },
  {
   "cell_type": "code",
   "execution_count": null,
   "metadata": {},
   "outputs": [],
   "source": [
    "img[0].shape"
   ]
  },
  {
   "cell_type": "code",
   "execution_count": null,
   "metadata": {},
   "outputs": [],
   "source": [
    "model.forward"
   ]
  },
  {
   "cell_type": "code",
   "execution_count": null,
   "metadata": {},
   "outputs": [],
   "source": [
    "class ResNetVAE(nn.Module):\n",
    "    def __init__(self):\n",
    "        super(ResNetVAE, self).__init__()\n",
    "        self.resnet = models.resnet34()\n",
    "        self.layer4_deconv = nn.Sequential(\n",
    "            nn.ConvTranspose2d(512, 512, kernel_size=3, padding=1),\n",
    "            nn.BatchNorm2d(512),\n",
    "            nn.ReLU(inplace=True),\n",
    "            nn.ConvTranspose2d(512, 512, kernel_size=3, padding=1),\n",
    "        )\n",
    "    \n",
    "    def encoder(self, x):\n",
    "        # [N, 3, 96, 96]\n",
    "        x = self.resnet.conv1(x)\n",
    "        # [N, 64, 48, 48]\n",
    "        x = self.resnet.bn1(x)\n",
    "        # [N, 64, 48, 48]\n",
    "        x = self.resnet.relu(x)\n",
    "        # [N, 64, 48, 48]\n",
    "        x = self.resnet.layer1(x)\n",
    "        # [N, 64, 48, 48]\n",
    "        x = self.resnet.layer2(x)\n",
    "        # [N, 128, 24, 24]\n",
    "        x = self.resnet.layer3(x)\n",
    "        # [N, 256, 12, 12]\n",
    "        x = self.resnet.layer4(x)\n",
    "        # [N, 512, 6, 6]\n",
    "        return x\n",
    "    \n",
    "#     def decoder(self, x):\n",
    "        \n",
    "    \n",
    "    def forward(self, x):\n",
    "        return self._encode(x)"
   ]
  },
  {
   "cell_type": "code",
   "execution_count": null,
   "metadata": {},
   "outputs": [],
   "source": [
    "vae = ResNetVAE()"
   ]
  },
  {
   "cell_type": "code",
   "execution_count": null,
   "metadata": {},
   "outputs": [],
   "source": [
    "fwd = vae(img_96[0])"
   ]
  },
  {
   "cell_type": "code",
   "execution_count": null,
   "metadata": {},
   "outputs": [],
   "source": [
    "fwd.shape"
   ]
  },
  {
   "cell_type": "code",
   "execution_count": null,
   "metadata": {},
   "outputs": [],
   "source": [
    "show(fwd[0][511])"
   ]
  },
  {
   "cell_type": "code",
   "execution_count": 5,
   "metadata": {},
   "outputs": [],
   "source": [
    "def conv3x3(in_planes, out_planes, stride=1, groups=1, dilation=1):\n",
    "    \"\"\"3x3 convolution with padding\"\"\"\n",
    "    return nn.Conv2d(in_planes, out_planes, kernel_size=3, stride=stride,\n",
    "                     padding=dilation, groups=groups, bias=False, dilation=dilation)\n",
    "\n",
    "def conv1x1(in_planes, out_planes, stride=1):\n",
    "    \"\"\"1x1 convolution\"\"\"\n",
    "    return nn.Conv2d(in_planes, out_planes, kernel_size=1, stride=stride, bias=False)\n",
    "\n",
    "def deconv3x3(in_planes, out_planes, stride=1, groups=1, dilation=1, output_padding=0):\n",
    "    \"\"\"3x3 deconvolution with padding\"\"\"\n",
    "    return nn.ConvTranspose2d(in_planes, out_planes, kernel_size=3, stride=stride,\n",
    "                     padding=dilation, groups=groups, bias=False, dilation=dilation, output_padding=output_padding)\n",
    "\n",
    "def deconv1x1(in_planes, out_planes, stride=1, output_padding=0):\n",
    "    \"\"\"1x1 deconvolution\"\"\"\n",
    "    return nn.ConvTranspose2d(in_planes, out_planes, kernel_size=1, stride=stride, \n",
    "                              bias=False, output_padding=output_padding)\n",
    "\n",
    "\n",
    "class BasicBlock(nn.Module):\n",
    "    expansion = 1\n",
    "\n",
    "    def __init__(self, mode, inplanes, planes, stride=1, resample=None, groups=1,\n",
    "                 base_width=64, dilation=1, norm_layer=None, output_padding=0):\n",
    "        super(BasicBlock, self).__init__()\n",
    "        if mode not in('conv', 'deconv'):\n",
    "            raise ValueError('BasickBlock mode can only be conv or deconv')\n",
    "        if norm_layer is None:\n",
    "            norm_layer = nn.BatchNorm2d\n",
    "        if groups != 1 or base_width != 64:\n",
    "            raise ValueError('BasicBlock only supports groups=1 and base_width=64')\n",
    "        if dilation > 1:\n",
    "            raise NotImplementedError(\"Dilation > 1 not supported in BasicBlock\")\n",
    "        # Both self.conv1 and self.downsample layers downsample the input when stride != 1\n",
    "        if mode == 'conv':\n",
    "            self.conv1 = conv3x3(inplanes, planes, stride)\n",
    "            self.conv2 = conv3x3(planes, planes)\n",
    "            self.relu = nn.LeakyReLU(negative_slope=0.01, inplace=True)\n",
    "        else:\n",
    "            self.conv1 = deconv3x3(inplanes, planes, stride, output_padding=output_padding)\n",
    "            self.conv2 = deconv3x3(planes, planes)\n",
    "            self.relu = nn.ReLU(inplace=True)\n",
    "        self.bn1 = norm_layer(planes)\n",
    "        self.bn2 = norm_layer(planes)\n",
    "        self.resample = resample\n",
    "        self.stride = stride\n",
    "\n",
    "    def forward(self, x):\n",
    "        identity = x\n",
    "        \n",
    "        out = self.conv1(x)\n",
    "        out = self.bn1(out)\n",
    "        out = self.relu(out)\n",
    "\n",
    "        out = self.conv2(out)\n",
    "        out = self.bn2(out)\n",
    "\n",
    "        if self.resample is not None:\n",
    "            identity = self.resample(x)\n",
    "        \n",
    "        out += identity\n",
    "        out = self.relu(out)\n",
    "        return out"
   ]
  },
  {
   "cell_type": "code",
   "execution_count": 6,
   "metadata": {},
   "outputs": [],
   "source": [
    "class ResNetVAE(nn.Module):\n",
    "\n",
    "    def __init__(self, layers, groups=1, width_per_group=64):\n",
    "                 \n",
    "        super(ResNetVAE, self).__init__()\n",
    "        self._norm_layer = nn.BatchNorm2d\n",
    "        self.inplanes = 64\n",
    "        self.dilation = 1\n",
    "        self.groups = groups\n",
    "        self.base_width = width_per_group\n",
    "        self.conv1 = nn.Conv2d(3, self.inplanes, kernel_size=7, stride=2, padding=3,\n",
    "                               bias=False)\n",
    "        self.bn1 = self._norm_layer(self.inplanes)\n",
    "        self.relu = nn.ReLU(inplace=True)\n",
    "        \n",
    "        self.layer1 = self._make_layer('conv', 64, layers[0])\n",
    "        self.layer2 = self._make_layer('conv', 128, layers[1], stride=2)               \n",
    "        self.layer3 = self._make_layer('conv', 256, layers[2], stride=2)\n",
    "        self.layer4 = self._make_layer('conv', 512, layers[3], stride=2)\n",
    "        \n",
    "        self.fc1 = nn.Linear(18432, 512)\n",
    "        self.fc2 = nn.Linear(18432, 512)\n",
    "        self.fc3 = nn.Linear(512, 18432)\n",
    "        \n",
    "        self.decon4 = self._make_layer('deconv', 512, layers[3], stride=2, output_padding=1)\n",
    "        self.decon3 = self._make_layer('deconv', 256, layers[2], stride=2, output_padding=1)\n",
    "        self.decon2 = self._make_layer('deconv', 128, layers[1], stride=2, output_padding=1)\n",
    "        self.decon1 = self._make_layer('deconv', 64, layers[0], output_padding=0)\n",
    "        \n",
    "        self.decon0 = nn.ConvTranspose2d(self.inplanes, 3, kernel_size=7, stride=2, padding=3,\n",
    "                               bias=False, output_padding=1)\n",
    "        self.bn0 = self._norm_layer(3)\n",
    "        self.sigmoid = nn.Sigmoid()\n",
    "        \n",
    "        for m in self.modules():\n",
    "            if isinstance(m, nn.Conv2d) or isinstance(m, nn.ConvTranspose2d):\n",
    "                nn.init.kaiming_normal_(m.weight, mode='fan_out', nonlinearity='relu')\n",
    "            elif isinstance(m, (nn.BatchNorm2d, nn.GroupNorm)):\n",
    "                nn.init.constant_(m.weight, 1)\n",
    "                nn.init.constant_(m.bias, 0)\n",
    "\n",
    "    def _make_layer(self, mode, planes, blocks, stride=1, output_padding=0):\n",
    "        norm_layer = self._norm_layer\n",
    "        resample = None\n",
    "        previous_dilation = self.dilation\n",
    "        if stride != 1 or self.inplanes != planes * BasicBlock.expansion:\n",
    "            if mode == 'conv':\n",
    "                resample = nn.Sequential(\n",
    "                    conv1x1(self.inplanes, planes * BasicBlock.expansion, stride),\n",
    "                    norm_layer(planes * BasicBlock.expansion),\n",
    "                )\n",
    "            else:\n",
    "                resample = nn.Sequential(\n",
    "                    deconv1x1(self.inplanes, planes * BasicBlock.expansion, stride, output_padding=output_padding),\n",
    "                    norm_layer(planes * BasicBlock.expansion),\n",
    "                )\n",
    "\n",
    "        layers = []\n",
    "        layers.append(BasicBlock(mode, self.inplanes, planes, stride, resample, self.groups,\n",
    "                            self.base_width, previous_dilation, norm_layer, output_padding=output_padding))\n",
    "        self.inplanes = planes * BasicBlock.expansion\n",
    "        for _ in range(1, blocks):\n",
    "            layers.append(BasicBlock(mode, self.inplanes, planes, groups=self.groups,\n",
    "                                base_width=self.base_width, dilation=self.dilation,\n",
    "                                norm_layer=norm_layer))\n",
    "\n",
    "        return nn.Sequential(*layers)\n",
    "    \n",
    "    def _encode(self, x):\n",
    "        # [N, 3, 96, 96]\n",
    "        x = self.conv1(x)\n",
    "        # [N, 64, 48, 48]\n",
    "        x = self.bn1(x)\n",
    "        x = self.relu(x)\n",
    "\n",
    "        x = self.layer1(x)\n",
    "        # [N, 64, 48, 48]\n",
    "        x = self.layer2(x)\n",
    "        # [N, 128, 24, 24]\n",
    "        x = self.layer3(x)\n",
    "        # [N, 256, 12, 12]\n",
    "        x = self.layer4(x)\n",
    "        # [N, 512, 6, 6]\n",
    "        \n",
    "        return x.view(x.size(0), -1)\n",
    "    \n",
    "    def _decode(self, x):\n",
    "        # [N, 18432]\n",
    "        x = x.view(x.size(0), 512, 6, 6)\n",
    "        x = self.decon4(x)\n",
    "        # [N, 512, 12, 12]\n",
    "        x = self.decon3(x)\n",
    "        # [N, 256, 24, 24]\n",
    "        x = self.decon2(x)\n",
    "        # [N, 128, 48, 48]\n",
    "        x = self.decon1(x)\n",
    "        # [N, 64, 48, 48]\n",
    "        \n",
    "        x = self.decon0(x)\n",
    "        # [N, 3, 96, 96]\n",
    "        x = self.bn0(x)\n",
    "#         x = self.sigmoid(x)\n",
    "        return x\n",
    "\n",
    "    def reparameterize(self, mu, logvar):\n",
    "        std = logvar.mul(0.5).exp_()\n",
    "        esp = torch.randn(*mu.size()).to(device)\n",
    "        z = mu + std * esp\n",
    "        return z\n",
    "\n",
    "    def bottleneck(self, h):\n",
    "        mu, logvar = self.fc1(h), self.fc2(h)\n",
    "        z = self.reparameterize(mu, logvar)\n",
    "        return z, mu, logvar\n",
    "        \n",
    "    def encode(self, x):\n",
    "        h = self._encode(x)\n",
    "        z, mu, logvar = self.bottleneck(h)\n",
    "        return z, mu, logvar\n",
    "\n",
    "    def decode(self, z):\n",
    "        z = self.fc3(z)\n",
    "        z = self._decode(z)\n",
    "        return z\n",
    "\n",
    "    def forward(self, x):\n",
    "        z, mu, logvar = self.encode(x)\n",
    "        z = self.decode(z)\n",
    "        return z, mu, logvar\n",
    "        "
   ]
  },
  {
   "cell_type": "code",
   "execution_count": 7,
   "metadata": {},
   "outputs": [],
   "source": [
    "iter_96 = iter(load_data('/scratch/drr342/dl/project/data/ssl_data_96/supervised/train', 64))\n",
    "iter_224 = iter(load_data('/scratch/drr342/dl/project/data/ssl_data_96/supervised/train', 64, resize=True))"
   ]
  },
  {
   "cell_type": "code",
   "execution_count": 8,
   "metadata": {},
   "outputs": [],
   "source": [
    "img_96 = iter_96.next()\n",
    "img_224 = iter_224.next()"
   ]
  },
  {
   "cell_type": "code",
   "execution_count": 9,
   "metadata": {},
   "outputs": [],
   "source": [
    "model_1Epoch = nn.DataParallel(ResNetVAE([2, 2, 2, 2]))\n",
    "checkpoint = torch.load('/scratch/drr342/dl/project/models/ResNetVAE_20190506_0008.pth', map_location='cpu')\n",
    "model_1Epoch.load_state_dict(checkpoint['model_state_dict'], strict=True)"
   ]
  },
  {
   "cell_type": "code",
   "execution_count": 10,
   "metadata": {},
   "outputs": [],
   "source": [
    "fwd_1Epoch = model_1Epoch(img_96[0])"
   ]
  },
  {
   "cell_type": "code",
   "execution_count": 11,
   "metadata": {},
   "outputs": [],
   "source": [
    "model_2Epoch = nn.DataParallel(ResNetVAE([2, 2, 2, 2]))\n",
    "checkpoint_2Epoch = torch.load('/scratch/drr342/dl/project/models/ResNetVAE_20190506_0445.pth', map_location='cpu')\n",
    "model_2Epoch.load_state_dict(checkpoint['model_state_dict'], strict=True)"
   ]
  },
  {
   "cell_type": "code",
   "execution_count": 12,
   "metadata": {},
   "outputs": [],
   "source": [
    "fwd_2Epoch = model_2Epoch(img_96[0])"
   ]
  },
  {
   "cell_type": "code",
   "execution_count": 15,
   "metadata": {},
   "outputs": [
    {
     "data": {
      "image/png": "[encoded data removed]",
      "text/plain": [
       "<matplotlib.figure.Figure at 0x2aad30015710>"
      ]
     },
     "metadata": {
      "needs_background": "light"
     },
     "output_type": "display_data"
    },
    {
     "data": {
      "image/png": "[encoded data removed]",
      "text/plain": [
       "<matplotlib.figure.Figure at 0x2aad30015550>"
      ]
     },
     "metadata": {
      "needs_background": "light"
     },
     "output_type": "display_data"
    },
    {
     "data": {
      "image/png": "[encoded data removed]",
      "text/plain": [
       "<matplotlib.figure.Figure at 0x2aae4cf7fa20>"
      ]
     },
     "metadata": {
      "needs_background": "light"
     },
     "output_type": "display_data"
    }
   ],
   "source": [
    "show(img_96[0][0])\n",
    "show(nn.Sigmoid()(fwd_1Epoch[0][0]))\n",
    "show(nn.Sigmoid()(fwd_2Epoch[0][0]))"
   ]
  },
  {
   "cell_type": "code",
   "execution_count": null,
   "metadata": {},
   "outputs": [],
   "source": []
  }
 ],
 "metadata": {
  "kernelspec": {
   "display_name": "Python 3",
   "language": "python",
   "name": "python3"
  },
  "language_info": {
   "codemirror_mode": {
    "name": "ipython",
    "version": 3
   },
   "file_extension": ".py",
   "mimetype": "text/x-python",
   "name": "python",
   "nbconvert_exporter": "python",
   "pygments_lexer": "ipython3",
   "version": "3.6.3"
  }
 },
 "nbformat": 4,
 "nbformat_minor": 2
}
